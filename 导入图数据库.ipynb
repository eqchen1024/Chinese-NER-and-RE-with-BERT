{
 "cells": [
  {
   "cell_type": "code",
   "execution_count": 1,
   "metadata": {},
   "outputs": [],
   "source": [
    "import pandas as pd"
   ]
  },
  {
   "cell_type": "code",
   "execution_count": 2,
   "metadata": {},
   "outputs": [],
   "source": [
    "from py2neo import Graph,Node,Relationship"
   ]
  },
  {
   "cell_type": "code",
   "execution_count": 3,
   "metadata": {},
   "outputs": [],
   "source": [
    "def to_graph(csv_file):\n",
    "    entities=pd.read_csv(csv_file)\n",
    "    enti_pd=entities.drop(entities.columns[0],axis=1).drop_duplicates()\n",
    "    entities_dic=enti_pd.to_dict(orient='record')\n",
    "    graph = Graph('http://localhost:7474', username='neo4j', password='cdy66666')\n",
    "    graph.delete_all()\n",
    "    graph.begin()\n",
    "    for i in entities_dic:\n",
    "        try:\n",
    "            node_head=Node(str(i[\"headtype\"]), name=i[\"head\"])\n",
    "            graph.merge(node_head,str(i[\"headtype\"]),'name')\n",
    "            node_tail=Node(str(i[\"tailtype\"]), name=i[\"tail\"])\n",
    "            graph.merge(node_tail,str(i[\"tailtype\"]),'name')\n",
    "            relation=Relationship(node_head, i[\"relation\"],node_tail)\n",
    "            graph.merge(relation)\n",
    "        except:\n",
    "            continue\n"
   ]
  },
  {
   "cell_type": "code",
   "execution_count": 4,
   "metadata": {},
   "outputs": [],
   "source": [
    "to_graph('./data/relation.csv')"
   ]
  },
  {
   "cell_type": "code",
   "execution_count": null,
   "metadata": {},
   "outputs": [],
   "source": []
  }
 ],
 "metadata": {
  "kernelspec": {
   "display_name": "Python 3",
   "language": "python",
   "name": "python3"
  },
  "language_info": {
   "codemirror_mode": {
    "name": "ipython",
    "version": 3
   },
   "file_extension": ".py",
   "mimetype": "text/x-python",
   "name": "python",
   "nbconvert_exporter": "python",
   "pygments_lexer": "ipython3",
   "version": "3.6.8"
  }
 },
 "nbformat": 4,
 "nbformat_minor": 2
}
